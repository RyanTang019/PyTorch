{
 "cells": [
  {
   "cell_type": "markdown",
   "metadata": {},
   "source": [
    "PyTorch workflow\n",
    "https://www.learnpytorch.io "
   ]
  },
  {
   "cell_type": "code",
   "execution_count": 169,
   "metadata": {},
   "outputs": [],
   "source": [
    "import torch, torchinfo, torchmetrics\n",
    "import pandas as pd\n",
    "import numpy as np\n",
    "import sklearn as sk\n",
    "import matplotlib.pyplot as plt\n",
    "from torch import nn"
   ]
  },
  {
   "cell_type": "code",
   "execution_count": 170,
   "metadata": {},
   "outputs": [
    {
     "data": {
      "text/plain": [
       "'2.3.0'"
      ]
     },
     "execution_count": 170,
     "metadata": {},
     "output_type": "execute_result"
    }
   ],
   "source": [
    "import torch.nn         #for neural network\n",
    "torch.__version__"
   ]
  },
  {
   "cell_type": "code",
   "execution_count": 171,
   "metadata": {},
   "outputs": [],
   "source": [
    "#from torch import nn"
   ]
  },
  {
   "cell_type": "code",
   "execution_count": 172,
   "metadata": {},
   "outputs": [],
   "source": [
    "#create known parameters\n",
    "weight = 0.7\n",
    "bias = 0.3"
   ]
  },
  {
   "cell_type": "code",
   "execution_count": 173,
   "metadata": {},
   "outputs": [
    {
     "data": {
      "text/plain": [
       "(tensor([[0.0000],\n",
       "         [0.0200],\n",
       "         [0.0400],\n",
       "         [0.0600],\n",
       "         [0.0800],\n",
       "         [0.1000],\n",
       "         [0.1200],\n",
       "         [0.1400],\n",
       "         [0.1600],\n",
       "         [0.1800]]),\n",
       " tensor([[0.3000],\n",
       "         [0.3140],\n",
       "         [0.3280],\n",
       "         [0.3420],\n",
       "         [0.3560],\n",
       "         [0.3700],\n",
       "         [0.3840],\n",
       "         [0.3980],\n",
       "         [0.4120],\n",
       "         [0.4260]]))"
      ]
     },
     "execution_count": 173,
     "metadata": {},
     "output_type": "execute_result"
    }
   ],
   "source": [
    "start = 0\n",
    "end = 1\n",
    "step = 0.02\n",
    "X = torch.arange(start,end,step).unsqueeze(dim=1)       #adds the extra dim at index 1 \n",
    "y = weight * X + bias\n",
    "\n",
    "X[:10], y[:10]"
   ]
  },
  {
   "cell_type": "code",
   "execution_count": 174,
   "metadata": {},
   "outputs": [
    {
     "data": {
      "text/plain": [
       "(50, 50)"
      ]
     },
     "execution_count": 174,
     "metadata": {},
     "output_type": "execute_result"
    }
   ],
   "source": [
    "len(X),len(y)"
   ]
  },
  {
   "cell_type": "markdown",
   "metadata": {},
   "source": [
    "Training and test set"
   ]
  },
  {
   "cell_type": "code",
   "execution_count": 175,
   "metadata": {},
   "outputs": [],
   "source": [
    "train_split = int(0.8*len(X))\n",
    "X_train, y_train = X[:train_split],y[:train_split]\n",
    "X_test, y_test = X[train_split:], y[train_split:]"
   ]
  },
  {
   "cell_type": "markdown",
   "metadata": {},
   "source": [
    "Building a function to visualize the data"
   ]
  },
  {
   "cell_type": "code",
   "execution_count": 176,
   "metadata": {},
   "outputs": [],
   "source": [
    "def plot_predictions(train_data= X_train, train_labels = y_train, test_data=X_test, test_lables =y_test, predictions = None ):\n",
    "    plt.figure(figsize=(10,7))\n",
    "    plt.scatter(train_data, train_labels,c='b',s=4,label=\"Training data\")               #good to use diff colours for diff data so its easier to identify what is what\n",
    "    plt.scatter(test_data,test_lables,c='g',s=4,label=\"Test data\")\n",
    "\n",
    "    if predictions is not None:\n",
    "        plt.scatter(test_data,predictions,c='r',s=4, label = \"Predictions\")         #will be used later to see how far off the predictions from the model is\n",
    "    \n",
    "    plt.legend(prop={\"size\":8})"
   ]
  },
  {
   "cell_type": "code",
   "execution_count": 177,
   "metadata": {},
   "outputs": [
    {
     "data": {
      "image/png": "[encoded data removed]",
      "text/plain": [
       "<Figure size 1000x700 with 1 Axes>"
      ]
     },
     "metadata": {},
     "output_type": "display_data"
    }
   ],
   "source": [
    "plot_predictions()      #call the function"
   ]
  },
  {
   "cell_type": "markdown",
   "metadata": {},
   "source": [
    "Building a model (linear regression)"
   ]
  },
  {
   "cell_type": "code",
   "execution_count": 178,
   "metadata": {},
   "outputs": [],
   "source": [
    "class LinearRegression(nn.Module):                      #creating subclass (child class) which inherits almost everything from the parent class nn.Module\n",
    "    def __init__(self):\n",
    "        super().__init__()                              #allows the function to use methods from the parent class\n",
    "        self.weights = nn.Parameter(torch.rand(1,       #creates a 1dim random value (basically just a single number)\n",
    "                                               requires_grad=True,      #pytorch will track the gradients of this specific parameter for use with torch.autograd and grad descent (this is usually on by default)\n",
    "                                               dtype=torch.float))\n",
    "        self.bias = nn.Parameter(torch.rand(1,\n",
    "                                            requires_grad=True,\n",
    "                                            dtype=torch.float))\n",
    "        #forward method to defind the computations in the model\n",
    "    def forward(self,x:torch.tensor)->torch.tensor:     # x is the input data (which is a type of torch.tensor) this method returns a \"torch.tensor\"\n",
    "        return self.weights * x + self.bias             #this is the linear regression"
   ]
  },
  {
   "cell_type": "markdown",
   "metadata": {},
   "source": [
    "Checking the contents of the model (model parameters)"
   ]
  },
  {
   "cell_type": "code",
   "execution_count": 179,
   "metadata": {},
   "outputs": [
    {
     "data": {
      "text/plain": [
       "[Parameter containing:\n",
       " tensor([0.8823], requires_grad=True),\n",
       " Parameter containing:\n",
       " tensor([0.9150], requires_grad=True)]"
      ]
     },
     "execution_count": 179,
     "metadata": {},
     "output_type": "execute_result"
    }
   ],
   "source": [
    "torch.manual_seed(42)\n",
    "\n",
    "model_0 = LinearRegression()        #create instance of the model\n",
    "\n",
    "list(model_0.parameters())          #checkout the parameters"
   ]
  },
  {
   "cell_type": "code",
   "execution_count": 180,
   "metadata": {},
   "outputs": [
    {
     "data": {
      "text/plain": [
       "OrderedDict([('weights', tensor([0.8823])), ('bias', tensor([0.9150]))])"
      ]
     },
     "execution_count": 180,
     "metadata": {},
     "output_type": "execute_result"
    }
   ],
   "source": [
    "model_0.state_dict()            #list named parameters\n",
    "#shows the initial weight and bias before training"
   ]
  },
  {
   "cell_type": "code",
   "execution_count": 181,
   "metadata": {},
   "outputs": [
    {
     "data": {
      "text/plain": [
       "(0.7, 0.3)"
      ]
     },
     "execution_count": 181,
     "metadata": {},
     "output_type": "execute_result"
    }
   ],
   "source": [
    "weight, bias            #ideal values "
   ]
  },
  {
   "cell_type": "markdown",
   "metadata": {},
   "source": [
    "Making predictions with the model"
   ]
  },
  {
   "cell_type": "code",
   "execution_count": 182,
   "metadata": {},
   "outputs": [
    {
     "data": {
      "text/plain": [
       "tensor([[1.6208],\n",
       "        [1.6385],\n",
       "        [1.6561],\n",
       "        [1.6738],\n",
       "        [1.6914],\n",
       "        [1.7090],\n",
       "        [1.7267],\n",
       "        [1.7443],\n",
       "        [1.7620],\n",
       "        [1.7796]])"
      ]
     },
     "execution_count": 182,
     "metadata": {},
     "output_type": "execute_result"
    }
   ],
   "source": [
    "with torch.inference_mode():            #inference mode turns off the gradient tracking --> don't need keep track of the grad rn cuz we are not doing training we are just testing the model\n",
    "    y_preds = model_0(X_test)           #predictions will be faster for larger data sets as pytorch is keeping track of lesser memory\n",
    "\n",
    "y_preds"
   ]
  },
  {
   "cell_type": "code",
   "execution_count": 183,
   "metadata": {},
   "outputs": [
    {
     "data": {
      "text/plain": [
       "tensor([[0.8600],\n",
       "        [0.8740],\n",
       "        [0.8880],\n",
       "        [0.9020],\n",
       "        [0.9160],\n",
       "        [0.9300],\n",
       "        [0.9440],\n",
       "        [0.9580],\n",
       "        [0.9720],\n",
       "        [0.9860]])"
      ]
     },
     "execution_count": 183,
     "metadata": {},
     "output_type": "execute_result"
    }
   ],
   "source": [
    "y_test"
   ]
  },
  {
   "cell_type": "code",
   "execution_count": 184,
   "metadata": {},
   "outputs": [
    {
     "data": {
      "image/png": "[encoded data removed]",
      "text/plain": [
       "<Figure size 1000x700 with 1 Axes>"
      ]
     },
     "metadata": {},
     "output_type": "display_data"
    }
   ],
   "source": [
    "plot_predictions(predictions=y_preds)"
   ]
  },
  {
   "cell_type": "code",
   "execution_count": 185,
   "metadata": {},
   "outputs": [],
   "source": [
    "#ideally uw the red dots ontop of the green dots or at least close to it "
   ]
  },
  {
   "cell_type": "markdown",
   "metadata": {},
   "source": [
    "Training the model"
   ]
  },
  {
   "cell_type": "code",
   "execution_count": 186,
   "metadata": {},
   "outputs": [
    {
     "data": {
      "text/plain": [
       "[Parameter containing:\n",
       " tensor([0.8823], requires_grad=True),\n",
       " Parameter containing:\n",
       " tensor([0.9150], requires_grad=True)]"
      ]
     },
     "execution_count": 186,
     "metadata": {},
     "output_type": "execute_result"
    }
   ],
   "source": [
    "list(model_0.parameters())"
   ]
  },
  {
   "cell_type": "code",
   "execution_count": 187,
   "metadata": {},
   "outputs": [
    {
     "data": {
      "text/plain": [
       "OrderedDict([('weights', tensor([0.8823])), ('bias', tensor([0.9150]))])"
      ]
     },
     "execution_count": 187,
     "metadata": {},
     "output_type": "execute_result"
    }
   ],
   "source": [
    "#check out the models parameters\n",
    "model_0.state_dict()"
   ]
  },
  {
   "cell_type": "code",
   "execution_count": 188,
   "metadata": {},
   "outputs": [],
   "source": [
    "#setup a loss function\n",
    "loss_fn = nn.L1Loss()"
   ]
  },
  {
   "cell_type": "code",
   "execution_count": 189,
   "metadata": {},
   "outputs": [],
   "source": [
    "#setup an optimizer\n",
    "optimizer = torch.optim.SGD(model_0.parameters(),lr=0.01)"
   ]
  },
  {
   "cell_type": "markdown",
   "metadata": {},
   "source": [
    "Building a training loop"
   ]
  },
  {
   "cell_type": "code",
   "execution_count": 190,
   "metadata": {},
   "outputs": [
    {
     "name": "stdout",
     "output_type": "stream",
     "text": [
      "Loss: 0.6860889196395874\n",
      "Epoch: 0 | Loss: 0.6860889196395874 | Test loss: 0.7637526988983154\n",
      "OrderedDict([('weights', tensor([0.8784])), ('bias', tensor([0.9050]))])\n",
      "Loss: 0.6745679378509521\n",
      "Loss: 0.6630470156669617\n",
      "Loss: 0.6515260338783264\n",
      "Loss: 0.6400049924850464\n",
      "Loss: 0.6284840703010559\n",
      "Loss: 0.6169630289077759\n",
      "Loss: 0.6054420471191406\n",
      "Loss: 0.5939210653305054\n",
      "Loss: 0.5824000239372253\n",
      "Loss: 0.5708791017532349\n",
      "Epoch: 10 | Loss: 0.5708791017532349 | Test loss: 0.6290428042411804\n",
      "OrderedDict([('weights', tensor([0.8394])), ('bias', tensor([0.8050]))])\n",
      "Loss: 0.5593580603599548\n",
      "Loss: 0.5478371381759644\n",
      "Loss: 0.5363161563873291\n",
      "Loss: 0.5247951149940491\n",
      "Loss: 0.5132741332054138\n",
      "Loss: 0.5017532110214233\n",
      "Loss: 0.4902321696281433\n",
      "Loss: 0.47871121764183044\n",
      "Loss: 0.4671902060508728\n",
      "Loss: 0.45566922426223755\n",
      "Epoch: 20 | Loss: 0.45566922426223755 | Test loss: 0.4943329691886902\n",
      "OrderedDict([('weights', tensor([0.8004])), ('bias', tensor([0.7050]))])\n",
      "Loss: 0.4441482126712799\n",
      "Loss: 0.43262726068496704\n",
      "Loss: 0.4211062490940094\n",
      "Loss: 0.40958523750305176\n",
      "Loss: 0.3980643153190613\n",
      "Loss: 0.38654330372810364\n",
      "Loss: 0.375022292137146\n",
      "Loss: 0.36350134015083313\n",
      "Loss: 0.3519803285598755\n",
      "Loss: 0.340459406375885\n",
      "Epoch: 30 | Loss: 0.340459406375885 | Test loss: 0.35962313413619995\n",
      "OrderedDict([('weights', tensor([0.7614])), ('bias', tensor([0.6050]))])\n",
      "Loss: 0.328938364982605\n",
      "Loss: 0.31741735339164734\n",
      "Loss: 0.3058963716030121\n",
      "Loss: 0.2943754196166992\n",
      "Loss: 0.2828544080257416\n",
      "Loss: 0.2713334262371063\n",
      "Loss: 0.25981244444847107\n",
      "Loss: 0.24829146265983582\n",
      "Loss: 0.23677048087120056\n",
      "Loss: 0.22524945437908173\n",
      "Epoch: 40 | Loss: 0.22524945437908173 | Test loss: 0.2249133139848709\n",
      "OrderedDict([('weights', tensor([0.7224])), ('bias', tensor([0.5050]))])\n",
      "Loss: 0.21372847259044647\n",
      "Loss: 0.20220749080181122\n",
      "Loss: 0.19068653881549835\n",
      "Loss: 0.1791655272245407\n",
      "Loss: 0.16764454543590546\n",
      "Loss: 0.156123548746109\n",
      "Loss: 0.14460256695747375\n",
      "Loss: 0.1330815702676773\n",
      "Loss: 0.12156059592962265\n",
      "Loss: 0.1100396141409874\n",
      "Epoch: 50 | Loss: 0.1100396141409874 | Test loss: 0.09020347893238068\n",
      "OrderedDict([('weights', tensor([0.6834])), ('bias', tensor([0.4050]))])\n",
      "Loss: 0.09851861745119095\n",
      "Loss: 0.0869976356625557\n",
      "Loss: 0.07547665387392044\n",
      "Loss: 0.06395565718412399\n",
      "Loss: 0.05243467167019844\n",
      "Loss: 0.04091368243098259\n",
      "Loss: 0.029392695054411888\n",
      "Loss: 0.017871711403131485\n",
      "Loss: 0.010616960003972054\n",
      "Loss: 0.009724984876811504\n",
      "Epoch: 60 | Loss: 0.009724984876811504 | Test loss: 0.020998019725084305\n",
      "OrderedDict([('weights', tensor([0.6539])), ('bias', tensor([0.3200]))])\n",
      "Loss: 0.00932561606168747\n",
      "Loss: 0.00897279940545559\n",
      "Loss: 0.008620462380349636\n",
      "Loss: 0.008283795788884163\n",
      "Loss: 0.00793526228517294\n",
      "Loss: 0.007594785653054714\n",
      "Loss: 0.007250060793012381\n",
      "Loss: 0.006905776914209127\n",
      "Loss: 0.006564866751432419\n",
      "Loss: 0.006216756068170071\n",
      "Epoch: 70 | Loss: 0.006216756068170071 | Test loss: 0.014099234715104103\n",
      "OrderedDict([('weights', tensor([0.6707])), ('bias', tensor([0.3120]))])\n",
      "Loss: 0.005879656411707401\n",
      "Loss: 0.005530657712370157\n",
      "Loss: 0.005191553384065628\n",
      "Loss: 0.0048454562202095985\n",
      "Loss: 0.004502546042203903\n",
      "Loss: 0.004160257522016764\n",
      "Loss: 0.003813534276559949\n",
      "Loss: 0.003475043922662735\n",
      "Loss: 0.003126060124486685\n",
      "Loss: 0.002788323210552335\n",
      "Epoch: 80 | Loss: 0.002788323210552335 | Test loss: 0.005826681852340698\n",
      "OrderedDict([('weights', tensor([0.6878])), ('bias', tensor([0.3050]))])\n",
      "Loss: 0.0024408497847616673\n",
      "Loss: 0.002099317265674472\n",
      "Loss: 0.0017560176784172654\n",
      "Loss: 0.0014921159017831087\n",
      "Loss: 0.0019509077537804842\n",
      "Loss: 0.007095950189977884\n",
      "Loss: 0.004425034858286381\n",
      "Loss: 0.007095950189977884\n",
      "Loss: 0.004425034858286381\n",
      "Loss: 0.007095950189977884\n",
      "Epoch: 90 | Loss: 0.007095950189977884 | Test loss: 0.00754010071977973\n",
      "OrderedDict([('weights', tensor([0.6938])), ('bias', tensor([0.2980]))])\n",
      "Loss: 0.004425034858286381\n",
      "Loss: 0.007095950189977884\n",
      "Loss: 0.004425034858286381\n",
      "Loss: 0.007095950189977884\n",
      "Loss: 0.004425034858286381\n",
      "Loss: 0.007095950189977884\n",
      "Loss: 0.004425034858286381\n",
      "Loss: 0.007095950189977884\n",
      "Loss: 0.004425034858286381\n"
     ]
    }
   ],
   "source": [
    "torch.manual_seed(42)\n",
    "\n",
    "epoch_count = []\n",
    "loss_values = []\n",
    "test_loss_values = []\n",
    "\n",
    "epochs = 100              #an epoch is 1 loop through the data (this is a hyperparameter as we have set it ourselves)\n",
    "\n",
    "for epoch in range(epochs):\n",
    "    model_0.train()         #set as training mode in PyTorch sets all parameters which requires gradients to require gradients\n",
    "\n",
    "    y_preds = model_0(X_train)          #forward pass\n",
    "\n",
    "    loss = loss_fn(y_preds,y_train)         #calculate the loss (aka how far off are the parameters)\n",
    "    print(f\"Loss: {loss}\")\n",
    "\n",
    "    optimizer.zero_grad()\n",
    "\n",
    "    loss.backward()        #perform back propagation on the loss wrt the parameters of the model\n",
    "\n",
    "    optimizer.step()        #step optimizer (perform gradient descent)->by defult how the optimizer changes will accumulate through the loop so.. \n",
    "                            #we have to zero them above in step 3 for the next iteration of the loop\n",
    "\n",
    "    model_0.eval()          #turns off gradient tracking\n",
    "\n",
    "    ###TESTING CODE\n",
    "    model_0.eval()          #turns off different settings in the model not needed for evaulation/testing\n",
    "    with torch.inference_mode():\n",
    "        test_pred = model_0(X_test)\n",
    "        test_loss = loss_fn(test_pred,y_test)\n",
    "\n",
    "    if epoch%10 == 0:\n",
    "        epoch_count.append(epoch)\n",
    "        loss_values.append(loss)\n",
    "        test_loss_values.append(test_loss)\n",
    "        print(f\"Epoch: {epoch} | Loss: {loss} | Test loss: {test_loss}\")\n",
    "\n",
    "        print(model_0.state_dict())"
   ]
  },
  {
   "cell_type": "code",
   "execution_count": 200,
   "metadata": {},
   "outputs": [
    {
     "data": {
      "text/plain": [
       "<matplotlib.legend.Legend at 0x3361a7710>"
      ]
     },
     "execution_count": 200,
     "metadata": {},
     "output_type": "execute_result"
    },
    {
     "data": {
      "image/png": "[encoded data removed]",
      "text/plain": [
       "<Figure size 640x480 with 1 Axes>"
      ]
     },
     "metadata": {},
     "output_type": "display_data"
    }
   ],
   "source": [
    "#plto the loss curves\n",
    "plt.plot(epoch_count, np.array(torch.tensor(loss_values).numpy()), label=\"train loss\")\n",
    "plt.plot(epoch_count, test_loss_values, label=\"test loss\")\n",
    "plt.title(\"training and test loss curves\")\n",
    "plt.ylabel(\"Loss\")\n",
    "plt.xlabel(\"Epochs\")\n",
    "plt.legend()"
   ]
  },
  {
   "cell_type": "code",
   "execution_count": 201,
   "metadata": {},
   "outputs": [
    {
     "data": {
      "text/plain": [
       "OrderedDict([('weights', tensor([0.6977])), ('bias', tensor([0.3080]))])"
      ]
     },
     "execution_count": 201,
     "metadata": {},
     "output_type": "execute_result"
    }
   ],
   "source": [
    "model_0.state_dict()"
   ]
  },
  {
   "cell_type": "code",
   "execution_count": 202,
   "metadata": {},
   "outputs": [],
   "source": [
    "with torch.inference_mode():\n",
    "    y_preds_new=model_0(X_test)         #test the new model"
   ]
  },
  {
   "cell_type": "code",
   "execution_count": 203,
   "metadata": {},
   "outputs": [],
   "source": [
    "#plot_predictions(predictions=y_preds)"
   ]
  },
  {
   "cell_type": "code",
   "execution_count": 204,
   "metadata": {},
   "outputs": [
    {
     "data": {
      "image/png": "[encoded data removed]",
      "text/plain": [
       "<Figure size 1000x700 with 1 Axes>"
      ]
     },
     "metadata": {},
     "output_type": "display_data"
    }
   ],
   "source": [
    "plot_predictions(predictions=y_preds_new)"
   ]
  },
  {
   "cell_type": "markdown",
   "metadata": {},
   "source": [
    "writing testing loop code"
   ]
  },
  {
   "cell_type": "code",
   "execution_count": 205,
   "metadata": {},
   "outputs": [],
   "source": [
    "#in the training loop"
   ]
  },
  {
   "cell_type": "code",
   "execution_count": null,
   "metadata": {},
   "outputs": [],
   "source": []
  }
 ],
 "metadata": {
  "kernelspec": {
   "display_name": "Python 3",
   "language": "python",
   "name": "python3"
  },
  "language_info": {
   "codemirror_mode": {
    "name": "ipython",
    "version": 3
   },
   "file_extension": ".py",
   "mimetype": "text/x-python",
   "name": "python",
   "nbconvert_exporter": "python",
   "pygments_lexer": "ipython3",
   "version": "3.11.4"
  }
 },
 "nbformat": 4,
 "nbformat_minor": 2
}
